{
 "cells": [
  {
   "cell_type": "code",
   "execution_count": 1,
   "id": "4e020edd",
   "metadata": {},
   "outputs": [],
   "source": [
    "example_string=\"It's over 9000!\"\n",
    "\n",
    "#Method-1:-White_Space_Tokenization\n",
    "#this method splits text based on white spaces\n",
    "white_space_tokens=example_string.split()\n"
   ]
  },
  {
   "cell_type": "code",
   "execution_count": 2,
   "id": "bd15d895",
   "metadata": {},
   "outputs": [
    {
     "data": {
      "text/plain": [
       "[\"It's\", 'over', '9000!']"
      ]
     },
     "execution_count": 2,
     "metadata": {},
     "output_type": "execute_result"
    }
   ],
   "source": [
    "white_space_tokens"
   ]
  },
  {
   "cell_type": "code",
   "execution_count": 3,
   "id": "91367f47",
   "metadata": {},
   "outputs": [],
   "source": [
    "#Method-2:-WordPunct_tokenization\n",
    "#this method splits text into words and punctuation\n",
    "from nltk.tokenize import WordPunctTokenizer\n",
    "word_punct_tokenizer=WordPunctTokenizer()\n",
    "word_punct_tokens=word_punct_tokenizer.tokenize(example_string)"
   ]
  },
  {
   "cell_type": "code",
   "execution_count": 4,
   "id": "f52d6075",
   "metadata": {},
   "outputs": [
    {
     "data": {
      "text/plain": [
       "['It', \"'\", 's', 'over', '9000', '!']"
      ]
     },
     "execution_count": 4,
     "metadata": {},
     "output_type": "execute_result"
    }
   ],
   "source": [
    "word_punct_tokens"
   ]
  },
  {
   "cell_type": "code",
   "execution_count": 5,
   "id": "ed778bbb",
   "metadata": {},
   "outputs": [],
   "source": [
    "#Method-3:-Treebank_word_tokenization\n",
    "#this method uses the standard word tokenization of penn treebank\n",
    "from nltk.tokenize import TreebankWordTokenizer\n",
    "tree_bank_tokenizer=TreebankWordTokenizer()\n",
    "tree_bank_tokens=tree_bank_tokenizer.tokenize(example_string)"
   ]
  },
  {
   "cell_type": "code",
   "execution_count": 6,
   "id": "f9c2faba",
   "metadata": {},
   "outputs": [
    {
     "data": {
      "text/plain": [
       "['It', \"'s\", 'over', '9000', '!']"
      ]
     },
     "execution_count": 6,
     "metadata": {},
     "output_type": "execute_result"
    }
   ],
   "source": [
    "tree_bank_tokens"
   ]
  },
  {
   "cell_type": "code",
   "execution_count": 7,
   "id": "f5548688",
   "metadata": {},
   "outputs": [
    {
     "data": {
      "text/plain": [
       "([\"It's\", 'over', '9000!'],\n",
       " ['It', \"'\", 's', 'over', '9000', '!'],\n",
       " ['It', \"'s\", 'over', '9000', '!'])"
      ]
     },
     "execution_count": 7,
     "metadata": {},
     "output_type": "execute_result"
    }
   ],
   "source": [
    "white_space_tokens, word_punct_tokens, tree_bank_tokens"
   ]
  }
 ],
 "metadata": {
  "kernelspec": {
   "display_name": "Python 3 (ipykernel)",
   "language": "python",
   "name": "python3"
  },
  "language_info": {
   "codemirror_mode": {
    "name": "ipython",
    "version": 3
   },
   "file_extension": ".py",
   "mimetype": "text/x-python",
   "name": "python",
   "nbconvert_exporter": "python",
   "pygments_lexer": "ipython3",
   "version": "3.11.5"
  }
 },
 "nbformat": 4,
 "nbformat_minor": 5
}
