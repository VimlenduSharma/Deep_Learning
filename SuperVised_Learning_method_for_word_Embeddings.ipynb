{
 "cells": [
  {
   "cell_type": "code",
   "execution_count": 5,
   "id": "a2dd1910",
   "metadata": {},
   "outputs": [],
   "source": [
    "#SuperVised-learning_to_calculate_vectors_for_word_embeddings\n",
    "import numpy as np\n",
    "from tensorflow.keras.preprocessing.text import one_hot\n",
    "from tensorflow.keras.preprocessing.sequence import pad_sequences\n",
    "from tensorflow.keras.models import Sequential\n",
    "from tensorflow.keras.layers import Dense\n",
    "from tensorflow.keras.layers import Flatten\n",
    "from tensorflow.keras.layers import Embedding\n"
   ]
  },
  {
   "cell_type": "code",
   "execution_count": 6,
   "id": "48ed442e",
   "metadata": {},
   "outputs": [],
   "source": [
    "reviews = ['nice food',\n",
    "        'amazing restaurant',\n",
    "        'too good',\n",
    "        'just loved it!',\n",
    "        'will go again',\n",
    "        'horrible food',\n",
    "        'never go there',\n",
    "        'poor service',\n",
    "        'poor quality',\n",
    "        'needs improvement']"
   ]
  },
  {
   "cell_type": "code",
   "execution_count": 7,
   "id": "4beda51f",
   "metadata": {},
   "outputs": [],
   "source": [
    "sentiment=np.array([1, 1, 1, 1, 1, 0, 0, 0, 0, 0])"
   ]
  },
  {
   "cell_type": "code",
   "execution_count": 8,
   "id": "c29d0302",
   "metadata": {},
   "outputs": [
    {
     "data": {
      "text/plain": [
       "[22, 1]"
      ]
     },
     "execution_count": 8,
     "metadata": {},
     "output_type": "execute_result"
    }
   ],
   "source": [
    "one_hot(\"amazing resturant\", 30)#it_will_assign_random_number_bw_1&_30_to_these_words"
   ]
  },
  {
   "cell_type": "code",
   "execution_count": 9,
   "id": "4691127e",
   "metadata": {},
   "outputs": [
    {
     "data": {
      "text/plain": [
       "[482, 259]"
      ]
     },
     "execution_count": 9,
     "metadata": {},
     "output_type": "execute_result"
    }
   ],
   "source": [
    "one_hot(\"amazing resturant\", 500)"
   ]
  },
  {
   "cell_type": "code",
   "execution_count": 10,
   "id": "03a73fc1",
   "metadata": {},
   "outputs": [
    {
     "data": {
      "text/plain": [
       "[[4, 21],\n",
       " [22, 2],\n",
       " [1, 11],\n",
       " [5, 23, 16],\n",
       " [11, 20, 14],\n",
       " [26, 21],\n",
       " [4, 20, 8],\n",
       " [5, 10],\n",
       " [5, 7],\n",
       " [20, 17]]"
      ]
     },
     "execution_count": 10,
     "metadata": {},
     "output_type": "execute_result"
    }
   ],
   "source": [
    "vocab_size=30\n",
    "encoded_reviews=[one_hot(d, vocab_size) for d in reviews ]\n",
    "encoded_reviews"
   ]
  },
  {
   "cell_type": "code",
   "execution_count": 11,
   "id": "545e44e0",
   "metadata": {},
   "outputs": [
    {
     "data": {
      "text/plain": [
       "array([[ 4, 21,  0],\n",
       "       [22,  2,  0],\n",
       "       [ 1, 11,  0],\n",
       "       [ 5, 23, 16],\n",
       "       [11, 20, 14],\n",
       "       [26, 21,  0],\n",
       "       [ 4, 20,  8],\n",
       "       [ 5, 10,  0],\n",
       "       [ 5,  7,  0],\n",
       "       [20, 17,  0]], dtype=int32)"
      ]
     },
     "execution_count": 11,
     "metadata": {},
     "output_type": "execute_result"
    }
   ],
   "source": [
    "#Padding_For_Making_The_vectors_of_equal_length\n",
    "max_length=3\n",
    "padded_reviews=pad_sequences(encoded_reviews, maxlen=max_length, padding='post')\n",
    "padded_reviews"
   ]
  },
  {
   "cell_type": "code",
   "execution_count": 13,
   "id": "99f54522",
   "metadata": {},
   "outputs": [],
   "source": [
    "embedded_vector_size=5\n",
    "model=Sequential()\n",
    "model.add(Embedding(vocab_size, embedded_vector_size, input_length=max_length, name='embedding'))#for_1st_embedded_layer\n",
    "model.add(Flatten())\n",
    "model.add(Dense(1, activation='sigmoid'))"
   ]
  },
  {
   "cell_type": "code",
   "execution_count": 14,
   "id": "65542449",
   "metadata": {},
   "outputs": [],
   "source": [
    "X=padded_reviews\n",
    "y=sentiment"
   ]
  },
  {
   "cell_type": "code",
   "execution_count": 15,
   "id": "67edb17f",
   "metadata": {},
   "outputs": [
    {
     "name": "stdout",
     "output_type": "stream",
     "text": [
      "Model: \"sequential\"\n",
      "_________________________________________________________________\n",
      " Layer (type)                Output Shape              Param #   \n",
      "=================================================================\n",
      " embedding (Embedding)       (None, 3, 5)              150       \n",
      "                                                                 \n",
      " flatten (Flatten)           (None, 15)                0         \n",
      "                                                                 \n",
      " dense (Dense)               (None, 1)                 16        \n",
      "                                                                 \n",
      "=================================================================\n",
      "Total params: 166 (664.00 Byte)\n",
      "Trainable params: 166 (664.00 Byte)\n",
      "Non-trainable params: 0 (0.00 Byte)\n",
      "_________________________________________________________________\n"
     ]
    }
   ],
   "source": [
    "model.compile(optimizer='adam', loss='binary_crossentropy', metrics=['accuracy'])\n",
    "model.summary()"
   ]
  },
  {
   "cell_type": "code",
   "execution_count": 18,
   "id": "d7cf3930",
   "metadata": {},
   "outputs": [
    {
     "data": {
      "text/plain": [
       "<keras.src.callbacks.History at 0x15c74e5d0>"
      ]
     },
     "execution_count": 18,
     "metadata": {},
     "output_type": "execute_result"
    }
   ],
   "source": [
    "model.fit(X, y, epochs=50, verbose=0)#Verbose_is_set_false_to_hide_epoch_computation_info"
   ]
  },
  {
   "cell_type": "code",
   "execution_count": 21,
   "id": "b1346db7",
   "metadata": {},
   "outputs": [
    {
     "name": "stdout",
     "output_type": "stream",
     "text": [
      "1/1 [==============================] - 0s 9ms/step - loss: 0.4436 - accuracy: 1.0000\n"
     ]
    },
    {
     "data": {
      "text/plain": [
       "1.0"
      ]
     },
     "execution_count": 21,
     "metadata": {},
     "output_type": "execute_result"
    }
   ],
   "source": [
    "#Evaluate_model\n",
    "loss, accuracy=model.evaluate(X, y)\n",
    "accuracy"
   ]
  },
  {
   "cell_type": "code",
   "execution_count": 22,
   "id": "02dd7167",
   "metadata": {},
   "outputs": [
    {
     "name": "stdout",
     "output_type": "stream",
     "text": [
      "1/1 [==============================] - 0s 11ms/step - loss: 0.4436 - accuracy: 1.0000\n"
     ]
    },
    {
     "data": {
      "text/plain": [
       "0.4435630738735199"
      ]
     },
     "execution_count": 22,
     "metadata": {},
     "output_type": "execute_result"
    }
   ],
   "source": [
    "#Evaluate_model\n",
    "loss, accuracy=model.evaluate(X, y)\n",
    "loss"
   ]
  },
  {
   "cell_type": "code",
   "execution_count": 24,
   "id": "52a79b6e",
   "metadata": {},
   "outputs": [
    {
     "data": {
      "text/plain": [
       "array([[ 0.1825534 , -0.21911152, -0.17249988, -0.1608998 , -0.16496336],\n",
       "       [ 0.18274324,  0.16353823, -0.19439805, -0.17540874,  0.15665843],\n",
       "       [ 0.1476023 ,  0.1728453 ,  0.11559882,  0.1851431 ,  0.181751  ],\n",
       "       [-0.03470908, -0.04357119, -0.03467516, -0.03068236,  0.00474074],\n",
       "       [ 0.05031504,  0.06219621,  0.00832424, -0.04019628, -0.01264765],\n",
       "       [-0.13582529, -0.22232957,  0.12806414,  0.14336565, -0.09900999],\n",
       "       [ 0.02396112,  0.01299179,  0.04029833,  0.01589233, -0.02830607],\n",
       "       [-0.13311222, -0.12261505, -0.17384198, -0.10526481, -0.1923112 ],\n",
       "       [ 0.19324291, -0.240016  , -0.21360463, -0.18666849, -0.16946322],\n",
       "       [-0.02026945,  0.03002366, -0.02842339, -0.00652082, -0.00353376],\n",
       "       [-0.173257  , -0.15392695, -0.132953  , -0.15395372, -0.20356561],\n",
       "       [ 0.13768479,  0.20584182, -0.00687439, -0.05568575,  0.15037666],\n",
       "       [-0.03630307, -0.02107188, -0.01260407, -0.01122002, -0.00323556],\n",
       "       [-0.02874338,  0.04194279, -0.04270262, -0.00352151, -0.00572989],\n",
       "       [-0.1590753 ,  0.24847887,  0.15687765,  0.12700701,  0.1814738 ],\n",
       "       [ 0.01949079,  0.00213096,  0.02380636, -0.02620633, -0.0265572 ],\n",
       "       [-0.14016908,  0.22799394,  0.20545223,  0.15270321,  0.18242405],\n",
       "       [-0.11134503, -0.1614246 , -0.16702102, -0.10564975, -0.20234099],\n",
       "       [ 0.02603329, -0.01595252, -0.01770004, -0.03653388,  0.04460894],\n",
       "       [ 0.01031457, -0.01959342, -0.01692212,  0.0102334 , -0.03694923],\n",
       "       [-0.1685148 , -0.21775874,  0.08725073,  0.18159041, -0.17849194],\n",
       "       [ 0.19125734,  0.10850536,  0.10597447,  0.14594963,  0.16209294],\n",
       "       [ 0.16955525,  0.20508519, -0.15501311, -0.15286328,  0.14678931],\n",
       "       [ 0.20156597,  0.10778008,  0.12216264,  0.1512249 ,  0.2121431 ],\n",
       "       [-0.02497563,  0.01204186, -0.00308926, -0.02219882, -0.00597929],\n",
       "       [ 0.03581294, -0.04288933,  0.02850883,  0.03581322, -0.04449407],\n",
       "       [-0.14938238, -0.19728108,  0.16505828,  0.18534969, -0.19718914],\n",
       "       [-0.02156038,  0.04498385, -0.03061119,  0.02114463,  0.02322381],\n",
       "       [ 0.01576659,  0.01062639,  0.01325044, -0.01185638,  0.00694848],\n",
       "       [ 0.01106704, -0.03925557, -0.00307137,  0.02831504, -0.0199334 ]],\n",
       "      dtype=float32)"
      ]
     },
     "execution_count": 24,
     "metadata": {},
     "output_type": "execute_result"
    }
   ],
   "source": [
    "model.get_layer('embedding').get_weights()[0]"
   ]
  },
  {
   "cell_type": "code",
   "execution_count": 25,
   "id": "45f75481",
   "metadata": {},
   "outputs": [
    {
     "data": {
      "text/plain": [
       "30"
      ]
     },
     "execution_count": 25,
     "metadata": {},
     "output_type": "execute_result"
    }
   ],
   "source": [
    "weights=model.get_layer('embedding').get_weights()[0]\n",
    "len(weights)"
   ]
  },
  {
   "cell_type": "code",
   "execution_count": 26,
   "id": "7b9cb4b2",
   "metadata": {},
   "outputs": [
    {
     "data": {
      "text/plain": [
       "array([ 0.05031504,  0.06219621,  0.00832424, -0.04019628, -0.01264765],\n",
       "      dtype=float32)"
      ]
     },
     "execution_count": 26,
     "metadata": {},
     "output_type": "execute_result"
    }
   ],
   "source": [
    "weights[4]"
   ]
  },
  {
   "cell_type": "code",
   "execution_count": 27,
   "id": "a4887130",
   "metadata": {},
   "outputs": [
    {
     "data": {
      "text/plain": [
       "array([ 0.16955525,  0.20508519, -0.15501311, -0.15286328,  0.14678931],\n",
       "      dtype=float32)"
      ]
     },
     "execution_count": 27,
     "metadata": {},
     "output_type": "execute_result"
    }
   ],
   "source": [
    "weights[22]"
   ]
  }
 ],
 "metadata": {
  "kernelspec": {
   "display_name": "Python 3 (ipykernel)",
   "language": "python",
   "name": "python3"
  },
  "language_info": {
   "codemirror_mode": {
    "name": "ipython",
    "version": 3
   },
   "file_extension": ".py",
   "mimetype": "text/x-python",
   "name": "python",
   "nbconvert_exporter": "python",
   "pygments_lexer": "ipython3",
   "version": "3.11.5"
  }
 },
 "nbformat": 4,
 "nbformat_minor": 5
}
