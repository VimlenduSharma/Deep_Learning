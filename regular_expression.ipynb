{
 "cells": [
  {
   "cell_type": "code",
   "execution_count": 1,
   "id": "48fe64c3",
   "metadata": {},
   "outputs": [],
   "source": [
    "#NLP_Regular_Expression_Pattern_Matching\n",
    "import re#regular_expression_module"
   ]
  },
  {
   "cell_type": "code",
   "execution_count": 4,
   "id": "c086c5ab",
   "metadata": {},
   "outputs": [],
   "source": [
    "chat1='codebasics:you ask lot of questions 1235678912,1239875621, abc@xyz.com'\n",
    "chat2='codebasics:here it is : (123)-567-8912,abc@xyz.com'\n",
    "chat3='codebasics:yes,phone:1235678912,email:abc@xyz.com'"
   ]
  },
  {
   "cell_type": "code",
   "execution_count": 20,
   "id": "b42f8bdc",
   "metadata": {},
   "outputs": [
    {
     "data": {
      "text/plain": [
       "['abc@xyz.com']"
      ]
     },
     "execution_count": 20,
     "metadata": {},
     "output_type": "execute_result"
    }
   ],
   "source": [
    "pattern='[a-z0-9A-Z_]*@[a-z0-9A-Z]*\\.[a-zA-z]*'\n",
    "matches=re.findall(pattern,chat3)\n",
    "matches"
   ]
  },
  {
   "cell_type": "code",
   "execution_count": 22,
   "id": "419c7474",
   "metadata": {},
   "outputs": [],
   "source": [
    "chat4='codebasics:Hello,I am having an issue with my order # 412889912'\n",
    "chat5='codebasics:Hello I am hiaving an issue with my order number 412889912'\n",
    "chat6='codebasics: My order 412889912 is having an issue,I was charged 300$ when online it says 280$'"
   ]
  },
  {
   "cell_type": "code",
   "execution_count": 23,
   "id": "5bd3afef",
   "metadata": {},
   "outputs": [
    {
     "data": {
      "text/plain": [
       "['412889912']"
      ]
     },
     "execution_count": 23,
     "metadata": {},
     "output_type": "execute_result"
    }
   ],
   "source": [
    "pattern='order[^\\d]*(\\d*)'\n",
    "matches=re.findall(pattern,chat4)\n",
    "matches"
   ]
  },
  {
   "cell_type": "code",
   "execution_count": 24,
   "id": "533384eb",
   "metadata": {},
   "outputs": [],
   "source": [
    "text='''\n",
    "      Born Mukesh Dhirubhai Ambani\n",
    "19 April 1957 (age 66)\n",
    "Aden, Colony of Aden\n",
    "(present-day Yemen)[1][2]\n",
    "Nationality Indian\n",
    "Alma mater\n",
    "St. Xavier's College, Mumbai\n",
    "Institute of Chemical Technology (B.E.)\n",
    "Occupation(s) Chairman and MD, Reliance Industries\n",
    "Spouse Nita Ambani ​(m. 1985)​[3]\n",
    "Children 3\n",
    "Parents\n",
    "Dhirubhai Ambani (father)\n",
    "Kokilaben Ambani (mother)\n",
    "Relatives Anil Ambani (brother)\n",
    "Tina Ambani (sister-in-law)\n",
    "      '''"
   ]
  },
  {
   "cell_type": "code",
   "execution_count": 26,
   "id": "5acd3fab",
   "metadata": {},
   "outputs": [],
   "source": [
    "def get_pattern_match(pattern,text):\n",
    "    matches=re.findall(pattern,text)\n",
    "    if matches:\n",
    "        return matches[0]\n",
    "    "
   ]
  },
  {
   "cell_type": "code",
   "execution_count": 28,
   "id": "944a213b",
   "metadata": {},
   "outputs": [],
   "source": [
    "def person_information(text):\n",
    "    age=get_pattern_match('age (\\d+)',text)\n",
    "    full_name=get_pattern_match('Born(.*)\\n',text)\n",
    "    birth_date=get_pattern_match('Born.*\\n(.*)\\(age',text)\n",
    "    birth_place=get_pattern_match('\\(age.*\\n(.*)',text)\n",
    "    \n",
    "    return{\n",
    "        'age':int(age),\n",
    "        'name':full_name.strip(),\n",
    "        'birth_date':birth_date.strip(),\n",
    "        'birth_place':birth_place.strip()\n",
    "    }"
   ]
  },
  {
   "cell_type": "code",
   "execution_count": 29,
   "id": "e865da35",
   "metadata": {},
   "outputs": [
    {
     "data": {
      "text/plain": [
       "{'age': 66,\n",
       " 'name': 'Mukesh Dhirubhai Ambani',\n",
       " 'birth_date': '19 April 1957',\n",
       " 'birth_place': 'Aden, Colony of Aden'}"
      ]
     },
     "execution_count": 29,
     "metadata": {},
     "output_type": "execute_result"
    }
   ],
   "source": [
    "person_information(text)"
   ]
  },
  {
   "cell_type": "code",
   "execution_count": null,
   "id": "1704d431",
   "metadata": {},
   "outputs": [],
   "source": []
  }
 ],
 "metadata": {
  "kernelspec": {
   "display_name": "Python 3 (ipykernel)",
   "language": "python",
   "name": "python3"
  },
  "language_info": {
   "codemirror_mode": {
    "name": "ipython",
    "version": 3
   },
   "file_extension": ".py",
   "mimetype": "text/x-python",
   "name": "python",
   "nbconvert_exporter": "python",
   "pygments_lexer": "ipython3",
   "version": "3.11.4"
  }
 },
 "nbformat": 4,
 "nbformat_minor": 5
}
